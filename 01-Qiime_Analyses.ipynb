{
 "cells": [
  {
   "cell_type": "markdown",
   "id": "ed25f6f3",
   "metadata": {},
   "source": [
    "# Pollen Metagenome of Fall Pollinators"
   ]
  },
  {
   "cell_type": "markdown",
   "id": "1c688247",
   "metadata": {},
   "source": [
    "Note that the sequence files and the qiime2 files containing all the sequences (demux-paired-end.qza) and the trimmed ITS sequences (trimmed.qza) are not provided here because of their size. The steps below allow you to recreate the files."
   ]
  },
  {
   "cell_type": "markdown",
   "id": "7dc645b7",
   "metadata": {},
   "source": [
    "## Import sequences into Qiime."
   ]
  },
  {
   "cell_type": "markdown",
   "id": "96701849",
   "metadata": {},
   "source": [
    "The sequences for the 10 samples should be downloaded from GenBank's SRA database under Bioproject PRJNA854139.\n",
    "\n",
    "Once downloaded the files should be moved to a directory called \"Data\" within the current directory."
   ]
  },
  {
   "cell_type": "code",
   "execution_count": null,
   "id": "4437afbc",
   "metadata": {},
   "outputs": [],
   "source": [
    "!qiime tools import \\\n",
    "  --type 'SampleData[PairedEndSequencesWithQuality]' \\\n",
    "  --input-path Data \\\n",
    "  --input-format CasavaOneEightSingleLanePerSampleDirFmt \\\n",
    "  --output-path 01-ProcessReads/demux-paired-end.qza"
   ]
  },
  {
   "cell_type": "code",
   "execution_count": null,
   "id": "f274d5f1",
   "metadata": {},
   "outputs": [],
   "source": [
    "!qiime demux summarize \\\n",
    " --i-data 01-ProcessReads/demux-paired-end.qza \\\n",
    " --p-n 100000 \\\n",
    " --verbose \\\n",
    " --o-visualization 01-ProcessReads/demux.qzv"
   ]
  },
  {
   "cell_type": "markdown",
   "id": "d9ca2232",
   "metadata": {},
   "source": [
    "## Isolate ITS2 sequences."
   ]
  },
  {
   "cell_type": "code",
   "execution_count": null,
   "id": "4a86033f",
   "metadata": {},
   "outputs": [],
   "source": [
    "!qiime itsxpress trim-pair-output-unmerged\\\n",
    "  --i-per-sample-sequences 01-ProcessReads/demux-paired-end.qza \\\n",
    "  --p-region ITS2 \\\n",
    "  --p-taxa ALL \\\n",
    "  --p-cluster-id 1.0 \\\n",
    "  --p-threads 30 \\\n",
    "  --o-trimmed 01-ProcessReads/trimmed.qza"
   ]
  },
  {
   "cell_type": "code",
   "execution_count": null,
   "id": "0f959bc1",
   "metadata": {},
   "outputs": [],
   "source": [
    "!qiime demux summarize \\\n",
    " --i-data 01-ProcessReads/trimmed.qza \\\n",
    " --p-n 100000 \\\n",
    " --verbose \\\n",
    " --o-visualization 01-ProcessReads/trimmed.qzv"
   ]
  },
  {
   "cell_type": "markdown",
   "id": "4f882d2a",
   "metadata": {},
   "source": [
    "## Identify ASVs"
   ]
  },
  {
   "cell_type": "code",
   "execution_count": null,
   "id": "c2d5bd4c",
   "metadata": {},
   "outputs": [],
   "source": [
    "!qiime dada2 denoise-paired \\\n",
    "  --i-demultiplexed-seqs 01-ProcessReads/trimmed.qza \\\n",
    "  --p-trunc-len-r 0 \\\n",
    "  --p-trunc-len-f 0 \\\n",
    "  --p-n-threads 30 \\\n",
    "  --o-representative-sequences 01-ProcessReads/rep-seqs-dada.qza \\\n",
    "  --o-table 01-ProcessReads/table-dada.qza \\\n",
    "  --o-denoising-stats 01-ProcessReads/stats-dada.qza"
   ]
  },
  {
   "cell_type": "code",
   "execution_count": null,
   "id": "d6da8051",
   "metadata": {},
   "outputs": [],
   "source": [
    "!qiime metadata tabulate \\\n",
    "  --m-input-file 01-ProcessReads/stats-dada.qza \\\n",
    "  --o-visualization 01-ProcessReads/stats-dada.qzv"
   ]
  },
  {
   "cell_type": "markdown",
   "id": "e01392fa",
   "metadata": {},
   "source": [
    "## Determine taxonomy"
   ]
  },
  {
   "cell_type": "code",
   "execution_count": null,
   "id": "2dd5cac5",
   "metadata": {},
   "outputs": [],
   "source": [
    "!qiime feature-classifier classify-sklearn \\\n",
    "  --i-classifier 01-ProcessReads/ITS2_classifier.qza \\\n",
    "  --i-reads 01-ProcessReads/rep-seqs-dada.qza \\\n",
    "  --p-n-jobs 30 \\\n",
    "  --o-classification 01-ProcessReads/taxonomydev.qza"
   ]
  },
  {
   "cell_type": "code",
   "execution_count": null,
   "id": "cd963fa3",
   "metadata": {},
   "outputs": [],
   "source": [
    "!qiime metadata tabulate \\\n",
    "  --m-input-file 01-ProcessReads/taxonomydev.qza \\\n",
    "  --o-visualization 01-ProcessReads/taxonomydev.qzv"
   ]
  },
  {
   "cell_type": "markdown",
   "id": "42bd346b",
   "metadata": {},
   "source": [
    "## Make Phylogenetic Tree"
   ]
  },
  {
   "cell_type": "code",
   "execution_count": null,
   "id": "1871936d",
   "metadata": {},
   "outputs": [],
   "source": [
    "!qiime phylogeny align-to-tree-mafft-fasttree \\\n",
    "  --i-sequences 01-ProcessReads/rep-seqs-dada.qza \\\n",
    "  --o-alignment 01-ProcessReads/aligned-rep-seqs.qza \\\n",
    "  --o-masked-alignment 01-ProcessReads/masked-aligned-rep-seqs.qza \\\n",
    "  --o-tree 01-ProcessReads/unrooted-tree.qza \\\n",
    "  --o-rooted-tree 01-ProcessReads/rooted-tree.qza"
   ]
  },
  {
   "cell_type": "markdown",
   "id": "6db3c561",
   "metadata": {},
   "source": [
    "## Analyses"
   ]
  },
  {
   "cell_type": "code",
   "execution_count": null,
   "id": "6f8ff5c9",
   "metadata": {},
   "outputs": [],
   "source": [
    "!qiime diversity core-metrics-phylogenetic \\\n",
    "  --i-phylogeny 01-ProcessReads/rooted-tree.qza \\\n",
    "  --i-table 01-ProcessReads/table-dada.qza \\\n",
    "  --p-sampling-depth 12000 \\\n",
    "  --m-metadata-file 021022ECits2S2F-mapping.txt \\\n",
    "  --output-dir 02-Results "
   ]
  },
  {
   "cell_type": "code",
   "execution_count": null,
   "id": "99c55048",
   "metadata": {},
   "outputs": [],
   "source": [
    "# Taxa plots\n",
    "!qiime taxa barplot \\\n",
    "  --i-table 01-ProcessReads/table-dada.qza \\\n",
    "  --i-taxonomy 01-ProcessReads/taxonomydev.qza \\\n",
    "  --m-metadata-file 021022ECits2S2F-mapping.txt \\\n",
    "  --o-visualization 02-Results/taxa-bar-plots-vsearch.qzv\n",
    "\n",
    "# Rarefaction Plots\n",
    "!qiime diversity alpha-rarefaction \\\n",
    "  --i-table 01-ProcessReads/table-dada.qza \\\n",
    "  --i-phylogeny 01-ProcessReads/rooted-tree.qza \\\n",
    "  --p-max-depth 12000 \\\n",
    "  --m-metadata-file 021022ECits2S2F-mapping.txt \\\n",
    "  --o-visualization 02-Results/alpha-rarefaction.qzv\n",
    "\n"
   ]
  },
  {
   "cell_type": "code",
   "execution_count": null,
   "id": "51397d27",
   "metadata": {},
   "outputs": [],
   "source": []
  }
 ],
 "metadata": {
  "kernelspec": {
   "display_name": "Python 3.9.10 ('sandbox')",
   "language": "python",
   "name": "python3"
  },
  "language_info": {
   "codemirror_mode": {
    "name": "ipython",
    "version": 3
   },
   "file_extension": ".py",
   "mimetype": "text/x-python",
   "name": "python",
   "nbconvert_exporter": "python",
   "pygments_lexer": "ipython3",
   "version": "3.9.10"
  },
  "vscode": {
   "interpreter": {
    "hash": "58b3ee7bed305e8a81ac508aa57e4aa7f39c9f5e9e2e26f9dc52b6cdc02b581d"
   }
  }
 },
 "nbformat": 4,
 "nbformat_minor": 5
}
